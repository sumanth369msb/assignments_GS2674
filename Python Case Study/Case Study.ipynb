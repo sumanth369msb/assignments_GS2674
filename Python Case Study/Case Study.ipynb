{
 "cells": [
  {
   "cell_type": "markdown",
   "id": "3bd7f51a",
   "metadata": {},
   "source": [
    "# Case study"
   ]
  },
  {
   "cell_type": "code",
   "execution_count": null,
   "id": "50e14d24",
   "metadata": {},
   "outputs": [],
   "source": []
  },
  {
   "cell_type": "code",
   "execution_count": 3,
   "id": "18da1a00",
   "metadata": {},
   "outputs": [],
   "source": [
    "class BookData:\n",
    "    books=[]\n",
    "    c=0\n",
    "    def __init__(self,isbn,title,author,year,publisher,image_s,image_m,image_l):\n",
    "        self.isbn=isbn\n",
    "        self.title=title\n",
    "        self.author=author\n",
    "        self.year=year\n",
    "        self.publisher=publisher\n",
    "        self.image_s=image_s\n",
    "        self.image_m=image_m\n",
    "        self.image_l=image_l\n",
    "        \n",
    "    def add_book(self):\n",
    "        self.books.append([self.isbn,self.title,self.author,self.year,self.publisher])\n",
    "    def del_book(self,isbn):\n",
    "        for i in range(len(BookData.books)):\n",
    "            if isbn==BookData.books[i][0]:\n",
    "                BookData.books.pop(i)\n",
    "    def update_book(self,old_title,new_title):\n",
    "        for i in range(len(BookData.books)):\n",
    "            if old_title==BookData.books[i][1]:\n",
    "                BookData.books[i][1]=new_title\n",
    "                print(\"Book updated\")\n",
    "    def check_title(self,title):\n",
    "        for i in range(len(BookData.books)):\n",
    "            if title==BookData.books[i][1]:\n",
    "                return True\n",
    "            else:\n",
    "                return False\n",
    "    @staticmethod\n",
    "    def check_isbn(ISBN):\n",
    "        for i in range(len(BookData.books)):\n",
    "            if ISBN==BookData.books[i][0]:\n",
    "                BookData.c=i\n",
    "                return True            \n",
    "        return False\n",
    "                \n",
    "###################################################\n",
    "    \n",
    "class Customer:\n",
    "    users=[]\n",
    "    def __init__(self):\n",
    "        pass\n",
    "    def add_user(self,serial_no,address,area_code):\n",
    "        self.users.append([serial_no,address,area_code])\n",
    "        print(\"user added\")\n",
    "    def change_user(self,old_address,new_address): ### to update user\n",
    "        for i in range(len(Customer.users)):\n",
    "            if old_address==Customer.users[i][1]:\n",
    "                Customer.users[i][1]=new_address\n",
    "\n",
    "###################################################\n",
    "\n",
    "class Common(Customer,BookData):\n",
    "    a=BookData.books\n",
    "    b=Customer.users\n",
    "    \n",
    "    def __init__(self):\n",
    "        pass\n",
    "    def issue(self,isbn,serial_no):\n",
    "        if BookData.check_isbn(isbn):\n",
    "            dic={serial_no:Common.a.pop(BookData.c)}\n",
                 print("popped")\n",
    "        else:\n",
    "            print(\"Book is unavailable at the moment\")\n",
    "    def return_book(self,serial_no,days):\n",
    "        if days>7:\n",
    "            fine=(days-7)*10\n",
    "            print(f\"Mr.{serial_no} your fine for returning the book late is :{fine}\")\n",
    "            fine=0\n",
    "        else:\n",
    "            print(f\"Thank u Mr.{serial_no} for returning the book on time! have a nice day\")\n",
    "    def add_rating(self,rating,isbn):\n",
    "        if BookData.check_isbn(isbn):\n",
    "            Common.a[BookData.c].append(rating)\n",
    "            print(\"Rating has been added to the book\")\n",
    "    def display(self):\n",
    "        k=[[i[0],i[-1],j[2]] for i,j in zip(Common.a,Common.b)]\n",
    "        print(k)\n",
    "    def avg_rating(self):\n",
    "        dic=dict()\n",
    "        for i in range(len(Common.a)):\n",
    "            try:\n",
    "                dic[Common.a[i][4]].append(Common.a[i][-1])\n",
    "            except:\n",
    "                dic[Common.a[i][4]]=[Common.a[i][-1]]\n",
    "        for i,j in dic.items():\n",
    "            j=sum(j)/len(j)\n",
    "            print(f\"Avg rating for {i} is {j}\")\n",
    "        print(dic.items())\n",
    "    def total(self):\n",
    "        dic=dict()\n",
    "        for i in range(len(Common.a)):\n",
    "            try:\n",
    "                dic[Common.a[i][3]].append(Common.a[i][-1])\n",
    "            except:\n",
    "                dic[Common.a[i][3]]=[Common.a[i][-1]]\n",
    "        for i,j in dic.items():\n",
    "            j=len(j)\n",
    "            print(f\"The no books published in the year {i} is {j}\")\n",
    "    def top_five(self):\n",
    "        top_ratings=[]\n",
    "        for i in range(len(Common.a)):\n",
    "            top_ratings.append(Common.a[i][-1])\n",
    "        top_ratings.sort(reverse=2)\n",
    "#         print(top_ratings)\n",
    "        top_books=[]\n",
    "        for i in range(len(Common.a)):\n",
    "            for j in range(len(Common.a)):\n",
    "                if top_ratings[i]==Common.a[j][-1]:\n",
    "                    top_books.append(Common.a[j])\n",
    "#             print(\"\\n\")\n",
    "        print(top_books)"
   ]
  },
  {
   "cell_type": "code",
   "execution_count": 4,
   "id": "5e14e0e8",
   "metadata": {},
   "outputs": [],
   "source": [
    "book1=BookData(100,\"Asura\",\"Anand\",2007,\"PK Publications\",\"www.simg.com\",\"mimg.com\",\"limg.com\")\n",
    "book1.add_book()"
   ]
  },
  {
   "cell_type": "code",
   "execution_count": 5,
   "id": "e730873c",
   "metadata": {},
   "outputs": [],
   "source": [
    "book1=BookData(101,\"rise of sivagami\",\"Anand\",2015,\"Dhwani Publications\",\"www.simg.com\",\"mimg.com\",\"limg.com\")\n",
    "book1.add_book()"
   ]
  },
  {
   "cell_type": "code",
   "execution_count": 6,
   "id": "979ba5dc",
   "metadata": {},
   "outputs": [],
   "source": [
    "book1=BookData(102,\"Ajaya: Roll of dice\",\"Anand\",2018,\"Dhwani Publications\",\"www.simg.com\",\"mimg.com\",\"limg.com\")\n",
    "book1.add_book()"
   ]
  },
  {
   "cell_type": "code",
   "execution_count": 7,
   "id": "f9039d2b",
   "metadata": {},
   "outputs": [],
   "source": [
    "book1=BookData(103,\"Ajaya: Rise of Kali\",\"Anand\",2019,\"Dhwani Publications\",\"www.simg.com\",\"mimg.com\",\"limg.com\")\n",
    "book1.add_book()"
   ]
  },
  {
   "cell_type": "code",
   "execution_count": 8,
   "id": "c6d2639c",
   "metadata": {},
   "outputs": [],
   "source": [
    "book1=BookData(104,\"The White Tiger\",\"Aravind Adiga\",2015,\"ARK Publishers\",\"www.simg.com\",\"mimg.com\",\"limg.com\")\n",
    "book1.add_book()"
   ]
  },
  {
   "cell_type": "code",
   "execution_count": 9,
   "id": "5d39b2d9",
   "metadata": {},
   "outputs": [
    {
     "data": {
      "text/plain": [
       "[[100, 'Asura', 'Anand', 2007, 'PK Publications'],\n",
       " [101, 'rise of sivagami', 'Anand', 2015, 'Dhwani Publications'],\n",
       " [102, 'Ajaya: Roll of dice', 'Anand', 2018, 'Dhwani Publications'],\n",
       " [103, 'Ajaya: Rise of Kali', 'Anand', 2019, 'Dhwani Publications'],\n",
       " [104, 'The White Tiger', 'Aravind Adiga', 2015, 'ARK Publishers']]"
      ]
     },
     "execution_count": 9,
     "metadata": {},
     "output_type": "execute_result"
    }
   ],
   "source": [
    "book1.books"
   ]
  },
  {
   "cell_type": "code",
   "execution_count": 10,
   "id": "4498a50a",
   "metadata": {},
   "outputs": [
    {
     "name": "stdout",
     "output_type": "stream",
     "text": [
      "Book updated\n"
     ]
    }
   ],
   "source": [
    "book1.update_book(\"Asura\",\"ASURA: Tale of the Vanquished\")"
   ]
  },
  {
   "cell_type": "code",
   "execution_count": 11,
   "id": "ddc16bba",
   "metadata": {},
   "outputs": [
    {
     "data": {
      "text/plain": [
       "True"
      ]
     },
     "execution_count": 11,
     "metadata": {},
     "output_type": "execute_result"
    }
   ],
   "source": [
    "book1.check_title(\"ASURA: Tale of the Vanquished\")"
   ]
  },
  {
   "cell_type": "code",
   "execution_count": 12,
   "id": "200f888e",
   "metadata": {},
   "outputs": [],
   "source": [
    "cust1=Customer()"
   ]
  },
  {
   "cell_type": "code",
   "execution_count": 13,
   "id": "94569677",
   "metadata": {},
   "outputs": [
    {
     "name": "stdout",
     "output_type": "stream",
     "text": [
      "user added\n",
      "user added\n",
      "user added\n",
      "user added\n",
      "user added\n"
     ]
    }
   ],
   "source": [
    "cust1.add_user(881,\"Gandhi Nagar\",\"GEC\")\n",
    "cust1.add_user(882,\"koramangala\",\"KEC\")\n",
    "cust1.add_user(883,\"Nagavara\",\"NGV\")\n",
    "cust1.add_user(884,\"Indira Nagar\",\"IEC\")\n",
    "cust1.add_user(885,\"Tin Factory\",\"TF\")"
   ]
  },
  {
   "cell_type": "code",
   "execution_count": 14,
   "id": "fa49e0b6",
   "metadata": {},
   "outputs": [
    {
     "data": {
      "text/plain": [
       "[[881, 'Gandhi Nagar', 'GEC'],\n",
       " [882, 'koramangala', 'KEC'],\n",
       " [883, 'Nagavara', 'NGV'],\n",
       " [884, 'Indira Nagar', 'IEC'],\n",
       " [885, 'Tin Factory', 'TF']]"
      ]
     },
     "execution_count": 14,
     "metadata": {},
     "output_type": "execute_result"
    }
   ],
   "source": [
    "cust1.users"
   ]
  },
  {
   "cell_type": "code",
   "execution_count": 15,
   "id": "b8ff6a23",
   "metadata": {},
   "outputs": [],
   "source": [
    "cust1.change_user(\"Nagavara\",\"Hebbal\")"
   ]
  },
  {
   "cell_type": "code",
   "execution_count": 16,
   "id": "8e8c0bca",
   "metadata": {},
   "outputs": [],
   "source": [
    "comm1=Common()"
   ]
  },
  {
   "cell_type": "code",
   "execution_count": 17,
   "id": "5f9b1b7b",
   "metadata": {},
   "outputs": [
    {
     "data": {
      "text/plain": [
       "[[881, 'Gandhi Nagar', 'GEC'],\n",
       " [882, 'koramangala', 'KEC'],\n",
       " [883, 'Hebbal', 'NGV'],\n",
       " [884, 'Indira Nagar', 'IEC'],\n",
       " [885, 'Tin Factory', 'TF']]"
      ]
     },
     "execution_count": 17,
     "metadata": {},
     "output_type": "execute_result"
    }
   ],
   "source": [
    "comm1.users"
   ]
  },
  {
   "cell_type": "code",
   "execution_count": 18,
   "id": "b836560e",
   "metadata": {},
   "outputs": [
    {
     "data": {
      "text/plain": [
       "[[100, 'ASURA: Tale of the Vanquished', 'Anand', 2007, 'PK Publications'],\n",
       " [101, 'rise of sivagami', 'Anand', 2015, 'Dhwani Publications'],\n",
       " [102, 'Ajaya: Roll of dice', 'Anand', 2018, 'Dhwani Publications'],\n",
       " [103, 'Ajaya: Rise of Kali', 'Anand', 2019, 'Dhwani Publications'],\n",
       " [104, 'The White Tiger', 'Aravind Adiga', 2015, 'ARK Publishers']]"
      ]
     },
     "execution_count": 18,
     "metadata": {},
     "output_type": "execute_result"
    }
   ],
   "source": [
    "comm1.books"
   ]
  },
  {
   "cell_type": "code",
   "execution_count": 19,
   "id": "0b461dd2",
   "metadata": {},
   "outputs": [],
   "source": [
    "# Common.return_book(\"881\",8)"
   ]
  },
  {
   "cell_type": "code",
   "execution_count": 20,
   "id": "31d53300",
   "metadata": {},
   "outputs": [
    {
     "name": "stdout",
     "output_type": "stream",
     "text": [
      "[[100, 'PK Publications', 'GEC'], [101, 'Dhwani Publications', 'KEC'], [102, 'Dhwani Publications', 'NGV'], [103, 'Dhwani Publications', 'IEC'], [104, 'ARK Publishers', 'TF']]\n"
     ]
    }
   ],
   "source": [
    "comm1.display()"
   ]
  },
  {
   "cell_type": "code",
   "execution_count": 21,
   "id": "5423140f",
   "metadata": {},
   "outputs": [
    {
     "name": "stdout",
     "output_type": "stream",
     "text": [
      "Mr.881 your fine for returning the book late is :10\n"
     ]
    }
   ],
   "source": [
    "comm1.return_book(\"881\",8)"
   ]
  },
  {
   "cell_type": "code",
   "execution_count": 22,
   "id": "2ce2744f",
   "metadata": {},
   "outputs": [
    {
     "name": "stdout",
     "output_type": "stream",
     "text": [
      "Rating has been added to the book\n"
     ]
    }
   ],
   "source": [
    "# Common.display()\n",
    "comm1.add_rating(8.5,100)"
   ]
  },
  {
   "cell_type": "code",
   "execution_count": 23,
   "id": "e3fd4cae",
   "metadata": {},
   "outputs": [
    {
     "name": "stdout",
     "output_type": "stream",
     "text": [
      "Rating has been added to the book\n"
     ]
    }
   ],
   "source": [
    "comm1.add_rating(7.8,101)"
   ]
  },
  {
   "cell_type": "code",
   "execution_count": 24,
   "id": "06e30123",
   "metadata": {},
   "outputs": [
    {
     "name": "stdout",
     "output_type": "stream",
     "text": [
      "Rating has been added to the book\n",
      "Rating has been added to the book\n"
     ]
    }
   ],
   "source": [
    "comm1.add_rating(8.7,102)\n",
    "comm1.add_rating(9.2,103)"
   ]
  },
  {
   "cell_type": "code",
   "execution_count": 25,
   "id": "b4ad1b04",
   "metadata": {},
   "outputs": [
    {
     "name": "stdout",
     "output_type": "stream",
     "text": [
      "Rating has been added to the book\n"
     ]
    }
   ],
   "source": [
    "comm1.add_rating(9,104)"
   ]
  },
  {
   "cell_type": "code",
   "execution_count": 26,
   "id": "e3b41dc7",
   "metadata": {},
   "outputs": [
    {
     "name": "stdout",
     "output_type": "stream",
     "text": [
      "Avg rating for PK Publications is 8.5\n",
      "Avg rating for Dhwani Publications is 8.566666666666666\n",
      "Avg rating for ARK Publishers is 9.0\n",
      "dict_items([('PK Publications', [8.5]), ('Dhwani Publications', [7.8, 8.7, 9.2]), ('ARK Publishers', [9])])\n"
     ]
    }
   ],
   "source": [
    "comm1.avg_rating()"
   ]
  },
  {
   "cell_type": "code",
   "execution_count": 27,
   "id": "a8f62e18",
   "metadata": {},
   "outputs": [
    {
     "name": "stdout",
     "output_type": "stream",
     "text": [
      "The no books published in the year 2007 is 1\n",
      "The no books published in the year 2015 is 2\n",
      "The no books published in the year 2018 is 1\n",
      "The no books published in the year 2019 is 1\n"
     ]
    }
   ],
   "source": [
    "comm1.total()"
   ]
  },
  {
   "cell_type": "code",
   "execution_count": 28,
   "id": "50543524",
   "metadata": {},
   "outputs": [
    {
     "name": "stdout",
     "output_type": "stream",
     "text": [
      "[[103, 'Ajaya: Rise of Kali', 'Anand', 2019, 'Dhwani Publications', 9.2], [104, 'The White Tiger', 'Aravind Adiga', 2015, 'ARK Publishers', 9], [102, 'Ajaya: Roll of dice', 'Anand', 2018, 'Dhwani Publications', 8.7], [100, 'ASURA: Tale of the Vanquished', 'Anand', 2007, 'PK Publications', 8.5], [101, 'rise of sivagami', 'Anand', 2015, 'Dhwani Publications', 7.8]]\n"
     ]
    }
   ],
   "source": [
    "comm1.top_five()"
   ]
  },
  {
   "cell_type": "code",
   "execution_count": null,
   "id": "0553cabb",
   "metadata": {},
   "outputs": [],
   "source": []
  },
  {
   "cell_type": "code",
   "execution_count": null,
   "id": "b3609e4d",
   "metadata": {},
   "outputs": [],
   "source": []
  }
 ],
 "metadata": {
  "kernelspec": {
   "display_name": "Python 3 (ipykernel)",
   "language": "python",
   "name": "python3"
  },
  "language_info": {
   "codemirror_mode": {
    "name": "ipython",
    "version": 3
   },
   "file_extension": ".py",
   "mimetype": "text/x-python",
   "name": "python",
   "nbconvert_exporter": "python",
   "pygments_lexer": "ipython3",
   "version": "3.11.4"
  }
 },
 "nbformat": 4,
 "nbformat_minor": 5
}
